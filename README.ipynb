{
 "cells": [
  {
   "cell_type": "markdown",
   "metadata": {},
   "source": [
    "# Behavioral Cloning\n",
    "\n",
    "Hereafter We present the information for Cloning driving behavior using Deep Learning. The code will be presented separately in the repository in the file `model.py` and different packages will be used to process training data gathered from Udacity's simulator. Images gathered will be extended to provide better traininig. Images were saved to an S3 bucket to provide access from multiple computers to craft the model separately from the training instance."
   ]
  },
  {
   "cell_type": "markdown",
   "metadata": {},
   "source": [
    "# Quality of code\n",
    "\n",
    "## Is the code functional?\n",
    "\n",
    "> The model provided can be used to successfully operate the simulation.\n",
    "\n",
    "## Is the code usable and readable?\n",
    "\n",
    "> The code in `model.py` uses a Python generator, if needed, to generate data for training rather than storing the training data in memory. The `model.py` code is clearly organized and comments are included where needed."
   ]
  },
  {
   "cell_type": "markdown",
   "metadata": {},
   "source": [
    "# Model Architecture and Training Strategy\n",
    "\n",
    "## Has an appropriate model architecture been employed for the task?\n",
    "\n",
    "> The neural network uses convolution layers with appropriate filter sizes. Layers exist to introduce nonlinearity into the model. The data is normalized in the model.\n",
    "\n",
    "## Has an attempt been made to reduce overfitting of the model?\n",
    "\n",
    "> Train/validation/test splits have been used, and the model uses dropout layers or other methods to reduce overfitting.\n",
    "\n",
    "## Have the model parameters been tuned appropriately?\n",
    "\n",
    "> Learning rate parameters are chosen with explanation, or an Adam optimizer is used.\n",
    "\n",
    "## Is the training data chosen appropriately?\n",
    "\n",
    "> Training data has been chosen to induce the desired behavior in the simulation (i.e. keeping the car on the track)."
   ]
  },
  {
   "cell_type": "markdown",
   "metadata": {},
   "source": [
    "# Architecture and Training Documentation\n",
    "\n",
    "## Is the solution design documented?\n",
    "\n",
    "> The README thoroughly discusses the approach taken for deriving and designing a model architecture fit for solving the given problem.\n",
    "\n",
    "## Is the model architecture documented?\n",
    "\n",
    "> The README provides sufficient details of the characteristics and qualities of the architecture, such as the type of model used, the number of layers, the size of each layer. Visualizations emphasizing particular qualities of the architecture are encouraged.\n",
    "\n",
    "## Is the creation of the training dataset and training process documented?\n",
    "\n",
    "> The README describes how the model was trained and what the characteristics of the dataset are. Information such as how the dataset was generated and examples of images from the dataset should be included.\n",
    "\n",
    "To assemble the data we use multiple use cases, we need to be able to extend the data easily so we create some scripts that rebuilds the labels."
   ]
  },
  {
   "cell_type": "code",
   "execution_count": 2,
   "metadata": {
    "collapsed": false
   },
   "outputs": [
    {
     "name": "stdout",
     "output_type": "stream",
     "text": [
      "['track1', 'track2']\n"
     ]
    }
   ],
   "source": [
    "import os\n",
    "\n",
    "print(os.listdir('./data')) "
   ]
  },
  {
   "cell_type": "markdown",
   "metadata": {},
   "source": [
    "# Simulation\n",
    "\n",
    "## Is the car able to navigate correctly on test data?\n",
    "\n",
    "> No tire may leave the drivable portion of the track surface. The car may not pop up onto ledges or roll over any surfaces that would otherwise be considered unsafe (if humans were in the vehicle)."
   ]
  },
  {
   "cell_type": "code",
   "execution_count": null,
   "metadata": {
    "collapsed": true
   },
   "outputs": [],
   "source": []
  }
 ],
 "metadata": {
  "anaconda-cloud": {},
  "kernelspec": {
   "display_name": "Python 3",
   "language": "python",
   "name": "python3"
  },
  "language_info": {
   "codemirror_mode": {
    "name": "ipython",
    "version": 3
   },
   "file_extension": ".py",
   "mimetype": "text/x-python",
   "name": "python",
   "nbconvert_exporter": "python",
   "pygments_lexer": "ipython3",
   "version": "3.5.2"
  },
  "widgets": {
   "state": {},
   "version": "1.1.2"
  }
 },
 "nbformat": 4,
 "nbformat_minor": 2
}
